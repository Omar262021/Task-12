{
 "cells": [
  {
   "cell_type": "code",
   "execution_count": null,
   "metadata": {},
   "outputs": [
    {
     "ename": "",
     "evalue": "",
     "output_type": "error",
     "traceback": [
      "\u001b[1;31mRunning cells with 'Python 3.8.10' requires the ipykernel package.\n",
      "\u001b[1;31mRun the following command to install 'ipykernel' into the Python environment. \n",
      "\u001b[1;31mCommand: '/bin/python3 -m pip install ipykernel -U --user --force-reinstall'"
     ]
    }
   ],
   "source": [
    "# Import necessary libraries\n",
    "import numpy as np\n",
    "\n",
    "# Define robot dimensions and parameters\n",
    "L = 0.3  # Length of the robot (meters)\n",
    "W = 0.3  # Width of the robot (meters)\n",
    "r = 0.04  # Radius of the wheels (meters)\n",
    "\n",
    "# Define forward kinematics function\n",
    "def forward_kinematics(wheel_velocities):\n",
    "    \"\"\"\n",
    "    Calculate the robot's velocities [vx, vy, omega] from wheel velocities.\n",
    "    \n",
    "    Parameters:\n",
    "    wheel_velocities (list): List of wheel velocities [omega1, omega2, omega3, omega4]\n",
    "    \n",
    "    Returns:\n",
    "    numpy.ndarray: Robot velocities [vx, vy, omega]\n",
    "    \"\"\"\n",
    "    omega = np.array(wheel_velocities).reshape((4, 1))  # Convert to a 4x1 column vector\n",
    "    kinematic_matrix = (r / 4) * np.array([\n",
    "        [1, 1, 1, 1],\n",
    "        [-1, 1, -1, 1],\n",
    "        [-1/(L+W), 1/(L+W), 1/(L+W), -1/(L+W)]\n",
    "    ])\n",
    "    robot_velocities = np.dot(kinematic_matrix, omega)\n",
    "    return robot_velocities\n",
    "\n",
    "# Define inverse kinematics function\n",
    "def inverse_kinematics(vx, vy, omega):\n",
    "    \"\"\"\n",
    "    Calculate the wheel velocities from the robot's velocities [vx, vy, omega].\n",
    "    \n",
    "    Parameters:\n",
    "    vx (float): Linear velocity in x direction\n",
    "    vy (float): Linear velocity in y direction\n",
    "    omega (float): Angular velocity\n",
    "    \n",
    "    Returns:\n",
    "    numpy.ndarray: Wheel velocities [omega1, omega2, omega3, omega4]\n",
    "    \"\"\"\n",
    "    robot_velocities = np.array([vx, vy, omega]).reshape((3, 1))  # Convert to a 3x1 column vector\n",
    "    kinematic_matrix_inv = (4 / r) * np.array([\n",
    "        [1, -1, -1/(L+W)],\n",
    "        [1, 1, 1/(L+W)],\n",
    "        [1, -1, 1/(L+W)],\n",
    "        [1, 1, -1/(L+W)]\n",
    "    ])\n",
    "    wheel_velocities = np.dot(kinematic_matrix_inv, robot_velocities)\n",
    "    return wheel_velocities.flatten()\n",
    "\n",
    "# Example wheel velocities\n",
    "wheel_vels = [10, 10, 10, 10]\n",
    "robot_vels = forward_kinematics(wheel_vels)\n",
    "print(\"Robot Velocities (vx, vy, omega):\", robot_vels.flatten())\n",
    "\n",
    "# Example robot velocities\n",
    "vx, vy, omega = 0.1, 0.2, 0.3\n",
    "wheel_velocities = inverse_kinematics(vx, vy, omega)\n",
    "print(\"Wheel Velocities (omega1, omega2, omega3, omega4):\", wheel_velocities)\n"
   ]
  }
 ],
 "metadata": {
  "kernelspec": {
   "display_name": "Python 3",
   "language": "python",
   "name": "python3"
  },
  "language_info": {
   "name": "python",
   "version": "3.8.10"
  }
 },
 "nbformat": 4,
 "nbformat_minor": 2
}
