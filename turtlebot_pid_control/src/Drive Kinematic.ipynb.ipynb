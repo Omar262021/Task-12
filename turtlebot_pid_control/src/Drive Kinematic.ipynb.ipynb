{
 "cells": [
  {
   "cell_type": "code",
   "execution_count": 1,
   "metadata": {},
   "outputs": [
    {
     "name": "stdout",
     "output_type": "stream",
     "text": [
      "Robot Velocities (vx, vy, omega): [0.4 0.  0. ]\n",
      "Wheel Velocities (omega1, omega2, omega3, omega4): [-60.  80.  40. -20.]\n"
     ]
    }
   ],
   "source": [
    "# Import necessary libraries\n",
    "import numpy as np\n",
    "\n",
    "# Define robot dimensions and parameters\n",
    "L = 0.3  # Length of the robot (meters)\n",
    "W = 0.3  # Width of the robot (meters)\n",
    "r = 0.04  # Radius of the wheels (meters)\n",
    "\n",
    "def forward_kinematics(wheel_velocities):\n",
    "    omega = np.array(wheel_velocities).reshape((4, 1))\n",
    "    kinematic_matrix = (r / 4) * np.array([\n",
    "        [1, 1, 1, 1],\n",
    "        [-1, 1, -1, 1],\n",
    "        [-1/(L+W), 1/(L+W), 1/(L+W), -1/(L+W)]\n",
    "    ])\n",
    "    robot_velocities = np.dot(kinematic_matrix, omega)\n",
    "    return robot_velocities\n",
    "\n",
    "def inverse_kinematics(vx, vy, omega):\n",
    "    robot_velocities = np.array([vx, vy, omega]).reshape((3, 1))\n",
    "    kinematic_matrix_inv = (4 / r) * np.array([\n",
    "        [1, -1, -1/(L+W)],\n",
    "        [1, 1, 1/(L+W)],\n",
    "        [1, -1, 1/(L+W)],\n",
    "        [1, 1, -1/(L+W)]\n",
    "    ])\n",
    "    wheel_velocities = np.dot(kinematic_matrix_inv, robot_velocities)\n",
    "    return wheel_velocities.flatten()\n",
    "\n",
    "wheel_vels = [10, 10, 10, 10]\n",
    "robot_vels = forward_kinematics(wheel_vels)\n",
    "print(\"Robot Velocities (vx, vy, omega):\", robot_vels.flatten())\n",
    "\n",
    "vx, vy, omega = 0.1, 0.2, 0.3\n",
    "wheel_velocities = inverse_kinematics(vx, vy, omega)\n",
    "print(\"Wheel Velocities (omega1, omega2, omega3, omega4):\", wheel_velocities)"
   ]
  }
 ],
 "metadata": {
  "kernelspec": {
   "display_name": "Python 3",
   "language": "python",
   "name": "python3"
  },
  "language_info": {
   "codemirror_mode": {
    "name": "ipython",
    "version": 3
   },
   "file_extension": ".py",
   "mimetype": "text/x-python",
   "name": "python",
   "nbconvert_exporter": "python",
   "pygments_lexer": "ipython3",
   "version": "3.8.10"
  }
 },
 "nbformat": 4,
 "nbformat_minor": 2
}
